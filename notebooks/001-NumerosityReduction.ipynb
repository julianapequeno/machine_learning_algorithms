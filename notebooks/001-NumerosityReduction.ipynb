{
  "cells": [
    {
      "cell_type": "markdown",
      "metadata": {},
      "source": [
        "Practicing a Data Reduction estrategy: Numerosity Reduction - Non-Parametric - Sampling "
      ]
    },
    {
      "cell_type": "code",
      "execution_count": null,
      "metadata": {
        "id": "xfxOTGUhEy7U"
      },
      "outputs": [],
      "source": [
        "from google.colab import files\n",
        "import io\n",
        "\n",
        "#Biblioteca pandas\n",
        "import pandas as pd\n",
        "\n",
        "#lendo arquivo .csv\n",
        "uploaded = files.upload()\n",
        "dados = pd.read_csv(io.BytesIO(uploaded['Breast_cancer.csv']))"
      ]
    },
    {
      "cell_type": "code",
      "execution_count": null,
      "metadata": {
        "id": "mDkzeRwBABkq"
      },
      "outputs": [],
      "source": [
        "#AMOSTRAREM SIMPLES. PEGAR UMA LINHA ALEATÓRIA.\n",
        "\n",
        "#gerando aleatoriamente uma linha\n",
        "row1 = dados.sample(n=1)\n",
        "\n",
        "print(row1)\n"
      ]
    },
    {
      "cell_type": "code",
      "execution_count": null,
      "metadata": {
        "id": "JBCdGSNjEPb5"
      },
      "outputs": [],
      "source": [
        "#AMOSTRAGEM SIMPLES SEM REPOSIÇÃO\n",
        "\n",
        "#gerando aleatoriamente 10% de instâncias\n",
        "amostra = dados.sample(frac = .10)\n",
        "\n",
        "#salvando em csv\n",
        "amostra.to_csv('BC_10.csv',encoding='utf-8',index=False)\n",
        "\n",
        "#dowload do arquivo transformado\n",
        "files.download('BC_10.csv')"
      ]
    },
    {
      "cell_type": "code",
      "execution_count": null,
      "metadata": {
        "id": "Kaxgeu93EYsa"
      },
      "outputs": [],
      "source": [
        "#AMOSTRAGEM SIMPLES COM REPOSIÇÃO\n",
        "\n",
        "#gerando aleatoriamente 30% de instâncias com reposição\n",
        "amostra = dados.sample(frac = .30, replace=True)\n",
        "\n",
        "#salvando em csv\n",
        "amostra.to_csv('BC_30.csv',encoding='utf-8',index=False)\n",
        "\n",
        "#download do arquivo transformado\n",
        "files.download('BC_30.csv')\n"
      ]
    },
    {
      "cell_type": "code",
      "execution_count": null,
      "metadata": {
        "id": "Q3RpDe3jErGt"
      },
      "outputs": [],
      "source": [
        "#AMOSTRAGEM ESTRATIFICADA\n",
        "\n",
        "#tamanho da amostra estratificada (quantidade de instancias)\n",
        "tamanho_amostra = 100\n",
        "\n",
        "#obtendo as classses da base de dados\n",
        "classes = dados['Class'].unique()\n",
        "\n",
        "print(dados['Class'].value_counts())\n",
        "\n",
        "#calculando a quantidade de amostras por classe\n",
        "# serão amostradas as mesmas quantidades para cada classe\n",
        "qtde_por_classe = round(tamanho_amostra / len(classes))\n",
        "\n",
        "# armazenaremos, para cada classe, um DataFrame com suas amostras\n",
        "amostras_por_classe  = []\n",
        "\n",
        "for c in classes:\n",
        "  selecao_da_classe_atual = dados.loc[dados['Class'] == c] #pega as linhas que possuem essa classe\n",
        "  amostra_c = selecao_da_classe_atual.sample(n = qtde_por_classe)\n",
        "  amostras_por_classe.append(amostra_c)\n",
        "\n",
        "amostra_estratificada = pd.concat(amostras_por_classe)\n",
        "\n",
        "#salvando em csv\n",
        "amostra_estratificada.to_csv('BC_estratify.csv',encoding='utf-8',index=False)\n",
        "\n",
        "#download do arquivo transformado\n",
        "files.download('BC_estratify.csv')\n",
        "\n"
      ]
    }
  ],
  "metadata": {
    "colab": {
      "provenance": []
    },
    "kernelspec": {
      "display_name": "Python 3",
      "name": "python3"
    },
    "language_info": {
      "name": "python"
    }
  },
  "nbformat": 4,
  "nbformat_minor": 0
}
