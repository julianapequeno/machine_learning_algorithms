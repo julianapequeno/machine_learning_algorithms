{
  "nbformat": 4,
  "nbformat_minor": 0,
  "metadata": {
    "colab": {
      "provenance": []
    },
    "kernelspec": {
      "name": "python3",
      "display_name": "Python 3"
    },
    "language_info": {
      "name": "python"
    }
  },
  "cells": [
    {
      "cell_type": "code",
      "execution_count": 1,
      "metadata": {
        "id": "9fQOFaMEJXNk"
      },
      "outputs": [],
      "source": [
        "### Carregar as Libraries\n",
        "import pandas as pd\n",
        "from numpy import mean\n",
        "from numpy import std\n",
        "\n",
        "### Importing Dataset\n",
        "dataset = pd.read_csv('Diabetes.csv',encoding='utf-8')"
      ]
    },
    {
      "cell_type": "code",
      "source": [
        "# Obtendo os nomes das colunas Numéricas\n",
        "tipos_numericos = ['int32', 'int64', 'float16', 'float32', 'float64']\n",
        "cols_num = dataset.select_dtypes(include=tipos_numericos)\n",
        "\n",
        "## Selecionando os atributos numéricos\n",
        "colunas_numericas = list(cols_num.columns)\n",
        "\n",
        "## Pegar a classe\n",
        "coluna_classe = dataset['classe']\n",
        "\n",
        "## Separando os atributos da classe\n",
        "X = dataset[colunas_numericas] # Features\n",
        "y = dataset.classe             # Target variable (classe)"
      ],
      "metadata": {
        "id": "QCd0UMPQJb9f"
      },
      "execution_count": 2,
      "outputs": []
    },
    {
      "cell_type": "code",
      "source": [
        "## Carregando o algoritmo / método / técnica k-NN\n",
        "from sklearn.neighbors import KNeighborsClassifier\n",
        "from sklearn.model_selection import train_test_split\n",
        "from sklearn.metrics import confusion_matrix\n",
        "from sklearn import metrics\n",
        "\n",
        "## Implementando k-fold CV\n",
        "from sklearn.model_selection import cross_val_score\n",
        "from sklearn.model_selection import cross_val_predict\n",
        "from sklearn.model_selection import KFold\n",
        "from sklearn.model_selection import cross_val_score\n",
        "from sklearn.model_selection import cross_val_predict"
      ],
      "metadata": {
        "id": "Up3txl0rJeaZ"
      },
      "execution_count": 3,
      "outputs": []
    },
    {
      "cell_type": "code",
      "source": [
        "# 10-fold CV\n",
        "kf = KFold(n_splits=10, random_state=1, shuffle=True)\n",
        "\n",
        "### Instanciando kNN and varying k from 1 to 10\n",
        "print('10-fold cv')\n",
        "for i in range(1, 11):\n",
        "    knn = KNeighborsClassifier(n_neighbors=i, metric='euclidean')\n",
        "\n",
        "    # Accuracia do Modelo\n",
        "    scores = cross_val_score(knn, X, y, scoring='accuracy', cv=kf)\n",
        "    print('%d-NN Accuracy: %.3f (%.3f)' % (i, mean(scores), std(scores)))"
      ],
      "metadata": {
        "id": "ATgt5900Jiwp"
      },
      "execution_count": null,
      "outputs": []
    }
  ]
}