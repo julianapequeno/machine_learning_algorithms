{
  "nbformat": 4,
  "nbformat_minor": 0,
  "metadata": {
    "colab": {
      "provenance": []
    },
    "kernelspec": {
      "name": "python3",
      "display_name": "Python 3"
    },
    "language_info": {
      "name": "python"
    }
  },
  "cells": [
    {
      "cell_type": "markdown",
      "source": [
        "Processamento de Imagens utilizando o HOG - Histogram Of Oriented Gradients"
      ],
      "metadata": {
        "id": "ut17bFe_IA0t"
      }
    },
    {
      "cell_type": "code",
      "execution_count": 57,
      "metadata": {
        "colab": {
          "base_uri": "https://localhost:8080/",
          "height": 854
        },
        "id": "8p0PQRrtk76i",
        "outputId": "cbc16ec1-d7d9-41ea-e5cd-765b79a0e0f3"
      },
      "outputs": [
        {
          "output_type": "stream",
          "name": "stdout",
          "text": [
            "A pasta já existe.\n"
          ]
        },
        {
          "output_type": "display_data",
          "data": {
            "text/plain": [
              "<IPython.core.display.HTML object>"
            ],
            "text/html": [
              "\n",
              "     <input type=\"file\" id=\"files-b9501cd6-b510-4c39-8a4f-abb65d292a05\" name=\"files[]\" multiple disabled\n",
              "        style=\"border:none\" />\n",
              "     <output id=\"result-b9501cd6-b510-4c39-8a4f-abb65d292a05\">\n",
              "      Upload widget is only available when the cell has been executed in the\n",
              "      current browser session. Please rerun this cell to enable.\n",
              "      </output>\n",
              "      <script>// Copyright 2017 Google LLC\n",
              "//\n",
              "// Licensed under the Apache License, Version 2.0 (the \"License\");\n",
              "// you may not use this file except in compliance with the License.\n",
              "// You may obtain a copy of the License at\n",
              "//\n",
              "//      http://www.apache.org/licenses/LICENSE-2.0\n",
              "//\n",
              "// Unless required by applicable law or agreed to in writing, software\n",
              "// distributed under the License is distributed on an \"AS IS\" BASIS,\n",
              "// WITHOUT WARRANTIES OR CONDITIONS OF ANY KIND, either express or implied.\n",
              "// See the License for the specific language governing permissions and\n",
              "// limitations under the License.\n",
              "\n",
              "/**\n",
              " * @fileoverview Helpers for google.colab Python module.\n",
              " */\n",
              "(function(scope) {\n",
              "function span(text, styleAttributes = {}) {\n",
              "  const element = document.createElement('span');\n",
              "  element.textContent = text;\n",
              "  for (const key of Object.keys(styleAttributes)) {\n",
              "    element.style[key] = styleAttributes[key];\n",
              "  }\n",
              "  return element;\n",
              "}\n",
              "\n",
              "// Max number of bytes which will be uploaded at a time.\n",
              "const MAX_PAYLOAD_SIZE = 100 * 1024;\n",
              "\n",
              "function _uploadFiles(inputId, outputId) {\n",
              "  const steps = uploadFilesStep(inputId, outputId);\n",
              "  const outputElement = document.getElementById(outputId);\n",
              "  // Cache steps on the outputElement to make it available for the next call\n",
              "  // to uploadFilesContinue from Python.\n",
              "  outputElement.steps = steps;\n",
              "\n",
              "  return _uploadFilesContinue(outputId);\n",
              "}\n",
              "\n",
              "// This is roughly an async generator (not supported in the browser yet),\n",
              "// where there are multiple asynchronous steps and the Python side is going\n",
              "// to poll for completion of each step.\n",
              "// This uses a Promise to block the python side on completion of each step,\n",
              "// then passes the result of the previous step as the input to the next step.\n",
              "function _uploadFilesContinue(outputId) {\n",
              "  const outputElement = document.getElementById(outputId);\n",
              "  const steps = outputElement.steps;\n",
              "\n",
              "  const next = steps.next(outputElement.lastPromiseValue);\n",
              "  return Promise.resolve(next.value.promise).then((value) => {\n",
              "    // Cache the last promise value to make it available to the next\n",
              "    // step of the generator.\n",
              "    outputElement.lastPromiseValue = value;\n",
              "    return next.value.response;\n",
              "  });\n",
              "}\n",
              "\n",
              "/**\n",
              " * Generator function which is called between each async step of the upload\n",
              " * process.\n",
              " * @param {string} inputId Element ID of the input file picker element.\n",
              " * @param {string} outputId Element ID of the output display.\n",
              " * @return {!Iterable<!Object>} Iterable of next steps.\n",
              " */\n",
              "function* uploadFilesStep(inputId, outputId) {\n",
              "  const inputElement = document.getElementById(inputId);\n",
              "  inputElement.disabled = false;\n",
              "\n",
              "  const outputElement = document.getElementById(outputId);\n",
              "  outputElement.innerHTML = '';\n",
              "\n",
              "  const pickedPromise = new Promise((resolve) => {\n",
              "    inputElement.addEventListener('change', (e) => {\n",
              "      resolve(e.target.files);\n",
              "    });\n",
              "  });\n",
              "\n",
              "  const cancel = document.createElement('button');\n",
              "  inputElement.parentElement.appendChild(cancel);\n",
              "  cancel.textContent = 'Cancel upload';\n",
              "  const cancelPromise = new Promise((resolve) => {\n",
              "    cancel.onclick = () => {\n",
              "      resolve(null);\n",
              "    };\n",
              "  });\n",
              "\n",
              "  // Wait for the user to pick the files.\n",
              "  const files = yield {\n",
              "    promise: Promise.race([pickedPromise, cancelPromise]),\n",
              "    response: {\n",
              "      action: 'starting',\n",
              "    }\n",
              "  };\n",
              "\n",
              "  cancel.remove();\n",
              "\n",
              "  // Disable the input element since further picks are not allowed.\n",
              "  inputElement.disabled = true;\n",
              "\n",
              "  if (!files) {\n",
              "    return {\n",
              "      response: {\n",
              "        action: 'complete',\n",
              "      }\n",
              "    };\n",
              "  }\n",
              "\n",
              "  for (const file of files) {\n",
              "    const li = document.createElement('li');\n",
              "    li.append(span(file.name, {fontWeight: 'bold'}));\n",
              "    li.append(span(\n",
              "        `(${file.type || 'n/a'}) - ${file.size} bytes, ` +\n",
              "        `last modified: ${\n",
              "            file.lastModifiedDate ? file.lastModifiedDate.toLocaleDateString() :\n",
              "                                    'n/a'} - `));\n",
              "    const percent = span('0% done');\n",
              "    li.appendChild(percent);\n",
              "\n",
              "    outputElement.appendChild(li);\n",
              "\n",
              "    const fileDataPromise = new Promise((resolve) => {\n",
              "      const reader = new FileReader();\n",
              "      reader.onload = (e) => {\n",
              "        resolve(e.target.result);\n",
              "      };\n",
              "      reader.readAsArrayBuffer(file);\n",
              "    });\n",
              "    // Wait for the data to be ready.\n",
              "    let fileData = yield {\n",
              "      promise: fileDataPromise,\n",
              "      response: {\n",
              "        action: 'continue',\n",
              "      }\n",
              "    };\n",
              "\n",
              "    // Use a chunked sending to avoid message size limits. See b/62115660.\n",
              "    let position = 0;\n",
              "    do {\n",
              "      const length = Math.min(fileData.byteLength - position, MAX_PAYLOAD_SIZE);\n",
              "      const chunk = new Uint8Array(fileData, position, length);\n",
              "      position += length;\n",
              "\n",
              "      const base64 = btoa(String.fromCharCode.apply(null, chunk));\n",
              "      yield {\n",
              "        response: {\n",
              "          action: 'append',\n",
              "          file: file.name,\n",
              "          data: base64,\n",
              "        },\n",
              "      };\n",
              "\n",
              "      let percentDone = fileData.byteLength === 0 ?\n",
              "          100 :\n",
              "          Math.round((position / fileData.byteLength) * 100);\n",
              "      percent.textContent = `${percentDone}% done`;\n",
              "\n",
              "    } while (position < fileData.byteLength);\n",
              "  }\n",
              "\n",
              "  // All done.\n",
              "  yield {\n",
              "    response: {\n",
              "      action: 'complete',\n",
              "    }\n",
              "  };\n",
              "}\n",
              "\n",
              "scope.google = scope.google || {};\n",
              "scope.google.colab = scope.google.colab || {};\n",
              "scope.google.colab._files = {\n",
              "  _uploadFiles,\n",
              "  _uploadFilesContinue,\n",
              "};\n",
              "})(self);\n",
              "</script> "
            ]
          },
          "metadata": {}
        },
        {
          "output_type": "stream",
          "name": "stdout",
          "text": [
            "Saving american_bulldog_2.jpg to american_bulldog_2 (2).jpg\n",
            "Saving american_bulldog_3.jpg to american_bulldog_3 (2).jpg\n",
            "Saving american_bulldog_5.jpg to american_bulldog_5 (2).jpg\n",
            "Saving american_bulldog_6.jpg to american_bulldog_6 (2).jpg\n",
            "Saving american_bulldog_7.jpg to american_bulldog_7 (2).jpg\n",
            "Saving american_bulldog_8.jpg to american_bulldog_8 (2).jpg\n",
            "Saving american_bulldog_9.jpg to american_bulldog_9 (2).jpg\n",
            "Saving american_bulldog_10.jpg to american_bulldog_10 (2).jpg\n",
            "Saving american_bulldog_11.jpg to american_bulldog_11 (2).jpg\n",
            "Saving american_bulldog_12.jpg to american_bulldog_12 (2).jpg\n",
            "Saving american_bulldog_13.jpg to american_bulldog_13 (2).jpg\n",
            "Saving american_bulldog_14.jpg to american_bulldog_14 (2).jpg\n",
            "Saving american_bulldog_15.jpg to american_bulldog_15 (2).jpg\n",
            "Saving american_bulldog_16.jpg to american_bulldog_16 (2).jpg\n",
            "Saving american_bulldog_18.jpg to american_bulldog_18 (2).jpg\n",
            "Saving american_bulldog_19.jpg to american_bulldog_19 (2).jpg\n",
            "Saving american_bulldog_20.jpg to american_bulldog_20 (2).jpg\n",
            "Saving american_bulldog_21.jpg to american_bulldog_21 (2).jpg\n",
            "Saving american_bulldog_22.jpg to american_bulldog_22 (2).jpg\n",
            "Saving american_bulldog_23.jpg to american_bulldog_23 (2).jpg\n",
            "Saving american_bulldog_24.jpg to american_bulldog_24 (2).jpg\n",
            "Saving american_bulldog_25.jpg to american_bulldog_25 (2).jpg\n",
            "Saving american_bulldog_26.jpg to american_bulldog_26 (2).jpg\n"
          ]
        }
      ],
      "source": [
        "## Importando as libs necessárias\n",
        "from google.colab import files\n",
        "import os, io, time\n",
        "\n",
        "# Criando o diretório inicial: /content/\n",
        "os.chdir('/content/')\n",
        "try:\n",
        "  os.mkdir('Imagens', )\n",
        "except:\n",
        "  print('A pasta já existe.')\n",
        "os.chdir('./Imagens')\n",
        "os.listdir()\n",
        "uploaded_images = files.upload()"
      ]
    },
    {
      "cell_type": "code",
      "source": [
        "## Reduzir as imagens\n",
        "from skimage.io import imread, imshow\n",
        "from skimage.transform import resize\n",
        "from skimage.feature import hog\n",
        "\n",
        "hog_features = []\n",
        "for filename in uploaded_images.keys():\n",
        "  image = imread(filename)\n",
        "  image_resized = resize(image, (128,128))\n",
        "  fd, hog_image = hog(image_resized, orientations=9, pixels_per_cell=(16, 16),\n",
        "                    cells_per_block=(2, 2), visualize=True, channel_axis=-1)\n",
        "  hog_features.append(fd)"
      ],
      "metadata": {
        "id": "Wg3MMTSgoRcF"
      },
      "execution_count": 49,
      "outputs": []
    },
    {
      "cell_type": "code",
      "source": [
        "import pandas as pd\n",
        "## Adicionar as colunas com os valores do hog\n",
        "data = {\"pathfile\": uploaded_images.keys(), \"hog_features\": hog_features}\n",
        "df = pd.DataFrame(data)\n",
        "df.head(10)"
      ],
      "metadata": {
        "id": "97zG24OmybmJ"
      },
      "execution_count": null,
      "outputs": []
    },
    {
      "cell_type": "code",
      "source": [
        "# transformando cada valor do hog_feature em um atributo (coluna)\n",
        "df2 = pd.DataFrame(df['hog_features'].tolist())\n",
        "df2.columns = df2.columns.map(lambda x: f'hog_feature_{x+1}')\n",
        "df = pd.concat([df.drop('hog_features', axis=1), df2], axis=1)\n",
        "df.head(10)"
      ],
      "metadata": {
        "id": "u98oj8my5v2f"
      },
      "execution_count": null,
      "outputs": []
    },
    {
      "cell_type": "code",
      "source": [
        "# Salvando csv resultante\n",
        "df.to_csv('HOG_Transform.csv', sep=';', index=False)\n",
        "\n",
        "#from google.colab import files\n",
        "#files.download('HOG_Transform.csv')"
      ],
      "metadata": {
        "id": "kYIGmd6Z_n2f"
      },
      "execution_count": 52,
      "outputs": []
    },
    {
      "cell_type": "markdown",
      "source": [
        "Aplicando o PCA na nova base de dados"
      ],
      "metadata": {
        "id": "A3z6k_Ljn_GJ"
      }
    },
    {
      "cell_type": "code",
      "source": [
        "import numpy as np\n",
        "import pandas as pd\n",
        "\n",
        "tipos_numericos = ['float64']\n",
        "atributos_numericos = df.select_dtypes(include=tipos_numericos)\n",
        "\n",
        "colunas_numericas = list(atributos_numericos.columns)\n",
        "\n",
        "print(colunas_numericas)\n",
        "\n",
        "X = df[colunas_numericas] # Features\n",
        "\n",
        "print(X)"
      ],
      "metadata": {
        "id": "wpRdOibyATYJ"
      },
      "execution_count": null,
      "outputs": []
    },
    {
      "cell_type": "code",
      "source": [
        "### Importando PCA do SkLearn #################\n",
        "\n",
        "from sklearn.decomposition import PCA\n",
        "\n",
        "##pca_obj = PCA(n_components=4)\n",
        "pca_obj = PCA(n_components=0.80, whiten=True)\n",
        "pca_result = pca_obj.fit_transform(X)\n",
        "\n",
        "print(pca_result.shape)\n",
        "\n",
        "columns = [\"pca_\"+str(i) for i in range(1,pca_result.shape[1]+1)]\n",
        "\n",
        "print(columns)\n",
        "pca_dataset = pd.DataFrame(data = pca_result, columns=columns)"
      ],
      "metadata": {
        "id": "oOOk9kLUAk5q"
      },
      "execution_count": null,
      "outputs": []
    },
    {
      "cell_type": "code",
      "source": [
        "final_data = pca_dataset\n",
        "final_data.head()\n",
        "\n",
        "df = pd.DataFrame(final_data)\n",
        "df.to_csv('HOG_Transformation_PCA.csv', index=False)\n",
        "\n",
        "#from google.colab import files\n",
        "#files.download('HOG_Transformation_PCA.csv')"
      ],
      "metadata": {
        "id": "psgEq2zeAuBu"
      },
      "execution_count": 56,
      "outputs": []
    }
  ]
}