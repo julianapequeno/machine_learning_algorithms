{
  "nbformat": 4,
  "nbformat_minor": 0,
  "metadata": {
    "colab": {
      "provenance": []
    },
    "kernelspec": {
      "name": "python3",
      "display_name": "Python 3"
    },
    "language_info": {
      "name": "python"
    }
  },
  "cells": [
    {
      "cell_type": "markdown",
      "source": [
        "#### Activity of **Pre Processing and Sampling** | Machine Learning, BTI/UFRN 2023.2"
      ],
      "metadata": {
        "id": "J-lmtOxNy2hH"
      }
    },
    {
      "cell_type": "code",
      "execution_count": null,
      "metadata": {
        "id": "MrlJVh5eiM9_"
      },
      "outputs": [],
      "source": [
        "import numpy as np\n",
        "import pandas as pd\n",
        "\n",
        "dataset = pd.read_csv('final_data.csv',encoding='utf-8')\n",
        "\n",
        "dataset.info() #showing dataset"
      ]
    },
    {
      "cell_type": "code",
      "source": [
        "tipos_numericos = ['int64']\n",
        "cols_num = dataset.select_dtypes(include=tipos_numericos)\n",
        "\n",
        "colunas_numericas = list(cols_num.columns)\n",
        "\n",
        "dados_normalizados = dataset.copy()\n",
        "\n",
        "#MEAN\n",
        "media_colunas = []\n",
        "media_colunas.append(dataset[colunas_numericas].mean())\n",
        "\n",
        "#MEDIAN\n",
        "median_columns = []\n",
        "median_columns.append(dataset[colunas_numericas].median())\n",
        "\n",
        "print(median_columns)\n"
      ],
      "metadata": {
        "id": "_5un1A2zlavi"
      },
      "execution_count": null,
      "outputs": []
    },
    {
      "cell_type": "code",
      "source": [
        "# CLEANING AND TRANSFORMATION\n",
        "# verifying if there is any missing value\n",
        "\n",
        "missing = dataset.isnull().sum()\n",
        "print(missing)\n",
        "\n",
        "#como preencher os atributos não categóricos com a moda? da mesma forma que fazemos com os categóricos?"
      ],
      "metadata": {
        "id": "0WEHDDqBoJQR"
      },
      "execution_count": null,
      "outputs": []
    },
    {
      "cell_type": "code",
      "source": [
        "###  NORMALIZANDO ATRIBUTOS NUMÉRICOS ###\n",
        "\n",
        "from sklearn.preprocessing import minmax_scale\n",
        "\n",
        "tipos_numericos = ['int64']\n",
        "cols_num = dataset.select_dtypes(include=tipos_numericos)\n",
        "\n",
        "colunas_numericas = list(cols_num.columns)\n",
        "\n",
        "dados_normalizados = dataset.copy()\n",
        "dados_normalizados[colunas_numericas] = dataset[colunas_numericas].apply(minmax_scale)\n",
        "\n",
        "dados_normalizados.head(10)"
      ],
      "metadata": {
        "id": "YOGcQcrroRQS"
      },
      "execution_count": null,
      "outputs": []
    },
    {
      "cell_type": "code",
      "source": [
        "## BINARIZAÇÃO DE ATRIBUTOS CATEGÓRICOS\n",
        "\n",
        "col_classe = dataset['Class']\n",
        "\n",
        "dataset.drop('Class',inplace=True,axis=1)\n",
        "\n",
        "tipos_categoricos = ['object']\n",
        "cols_cat = dataset.select_dtypes(include=tipos_categoricos)\n",
        "\n",
        "categoricoToBinary = pd.get_dummies(cols_cat)\n",
        "dados = dataset.join(categoricoToBinary)\n",
        "\n",
        "dados.drop(cols_cat.columns.to_list(),axis=1,inplace=True)\n",
        "\n",
        "final_data = dados.join(col_classe)\n",
        "\n",
        "final_data.head()"
      ],
      "metadata": {
        "id": "KPHrcLWeqX9C"
      },
      "execution_count": null,
      "outputs": []
    },
    {
      "cell_type": "code",
      "source": [
        "##DISCRETIZANDO ATRIBUTOS NUMÉRICOS (PROCESSO INVERSO À TRANSFORMAÇÃO NOMINAL->NUMÉRICA)\n",
        "\n",
        "np.array(sorted(dataset.AI.unique()))\n",
        "dataset['AI'] = pd.cut(dataset.AI,bins=2,labels=['Não','Sim'])\n",
        "dataset.head()"
      ],
      "metadata": {
        "id": "_KvcKEv1q_wl"
      },
      "execution_count": null,
      "outputs": []
    },
    {
      "cell_type": "code",
      "source": [
        "from google.colab import files\n",
        "\n",
        "#salvando em csv\n",
        "final_data.to_csv('FD_normalized.csv',encoding='utf-8',index=False)\n",
        "\n",
        "#download do arquivo transformado\n",
        "files.download('FD_normalized.csv')"
      ],
      "metadata": {
        "id": "XlV9hYqOslCe"
      },
      "execution_count": null,
      "outputs": []
    },
    {
      "cell_type": "markdown",
      "source": [
        "### **Sampling - 30% and without replacement**"
      ],
      "metadata": {
        "id": "_L_eVFXhtZPa"
      }
    },
    {
      "cell_type": "code",
      "source": [
        "amostra = final_data.sample(frac = .30)\n",
        "\n",
        "#salvando em csv\n",
        "amostra.to_csv('FD_simple_WTRE_30.csv',encoding='utf-8',index=False)\n",
        "\n",
        "print(\"Size of Final Data Dataset: \",len(final_data))\n",
        "print(\"Size of the '30% without replacement' sampling: \",len(amostra))\n",
        "amostra.head()"
      ],
      "metadata": {
        "id": "TcBIkZgBtQgn"
      },
      "execution_count": null,
      "outputs": []
    },
    {
      "cell_type": "markdown",
      "source": [
        "### **Sampling - 30% and with replacement**"
      ],
      "metadata": {
        "id": "dAEmOhskuS2a"
      }
    },
    {
      "cell_type": "code",
      "source": [
        "amostra = dados.sample(frac = .30, replace=True)\n",
        "\n",
        "#salvando em csv\n",
        "amostra.to_csv('FD_simple_WRE_30.csv',encoding='utf-8',index=False)\n",
        "print(\"Size of Final Data Dataset: \",len(final_data))\n",
        "print(\"Size of the '30% with replacement' sampling: \",len(amostra))\n",
        "amostra.head()"
      ],
      "metadata": {
        "id": "14YSmZKJuPUg"
      },
      "execution_count": null,
      "outputs": []
    },
    {
      "cell_type": "markdown",
      "source": [
        "### **Sampling - 50% and without replacement**"
      ],
      "metadata": {
        "id": "LFFjIwbOu1xY"
      }
    },
    {
      "cell_type": "code",
      "source": [
        "amostra = final_data.sample(frac = .50)\n",
        "\n",
        "#salvando em csv\n",
        "amostra.to_csv('FD_simple_WTRE_50.csv',encoding='utf-8',index=False)\n",
        "amostra.head()"
      ],
      "metadata": {
        "id": "u5SmcGuxu58L"
      },
      "execution_count": null,
      "outputs": []
    },
    {
      "cell_type": "markdown",
      "source": [
        "### **Sampling - 50% and with replacement**"
      ],
      "metadata": {
        "id": "WbOHf-RNu-2z"
      }
    },
    {
      "cell_type": "code",
      "source": [
        "amostra = dados.sample(frac = .50, replace=True)\n",
        "\n",
        "#salvando em csv\n",
        "amostra.to_csv('FD_simple_WRE_50.csv',encoding='utf-8',index=False)\n",
        "amostra.head()"
      ],
      "metadata": {
        "id": "Ue8AtUOUvDCQ"
      },
      "execution_count": null,
      "outputs": []
    },
    {
      "cell_type": "markdown",
      "source": [
        "### **Estratify Sampling of 50%**"
      ],
      "metadata": {
        "id": "ljoqM2SuvPWi"
      }
    },
    {
      "cell_type": "code",
      "source": [
        "tamanho_amostra = 100\n",
        "\n",
        "fifty_data = final_data.sample(frac = .50, replace=False)\n",
        "\n",
        "classes = fifty_data['Class'].unique()\n",
        "\n",
        "print(fifty_data['Class'].value_counts())\n",
        "\n",
        "qtde_por_classe = round(tamanho_amostra / len(classes))\n",
        "\n",
        "amostras_por_classe  = []\n",
        "\n",
        "for c in classes:\n",
        "  selecao_da_classe_atual = fifty_data.loc[fifty_data['Class'] == c]\n",
        "  amostra_c = selecao_da_classe_atual.sample(n = qtde_por_classe)\n",
        "  amostras_por_classe.append(amostra_c)\n",
        "\n",
        "amostra_estratificada = pd.concat(amostras_por_classe)\n",
        "\n",
        "amostra_estratificada.to_csv('BC_estratify.csv',encoding='utf-8',index=False)\n",
        "amostra_estratificada.head(100)"
      ],
      "metadata": {
        "id": "mOjS8anSveSI"
      },
      "execution_count": null,
      "outputs": []
    },
    {
      "cell_type": "markdown",
      "source": [
        "### **Sampling - 70% and without replacement**"
      ],
      "metadata": {
        "id": "OfBwJs62wvsu"
      }
    },
    {
      "cell_type": "code",
      "source": [
        "amostra = final_data.sample(frac = .70)\n",
        "\n",
        "#salvando em csv\n",
        "amostra.to_csv('FD_simple_WTRE_70.csv',encoding='utf-8',index=False)\n",
        "amostra.head()"
      ],
      "metadata": {
        "id": "CE7rNkGrw0Oc"
      },
      "execution_count": null,
      "outputs": []
    },
    {
      "cell_type": "markdown",
      "source": [
        "### **Sampling - 70% and with replacement**"
      ],
      "metadata": {
        "id": "Uaf2wgRGxSGq"
      }
    },
    {
      "cell_type": "code",
      "source": [
        "amostra = dados.sample(frac = .70, replace=True)\n",
        "\n",
        "#salvando em csv\n",
        "amostra.to_csv('FD_simple_WRE_50.csv',encoding='utf-8',index=False)\n",
        "amostra.head()"
      ],
      "metadata": {
        "id": "hoKLQkaWxVlY"
      },
      "execution_count": null,
      "outputs": []
    },
    {
      "cell_type": "markdown",
      "source": [
        "### **Estratify Sampling of 70%**"
      ],
      "metadata": {
        "id": "_AaD2LJHyOIK"
      }
    },
    {
      "cell_type": "code",
      "source": [
        "tamanho_amostra = 100\n",
        "\n",
        "seventy_data = final_data.sample(frac = .70, replace=False)\n",
        "\n",
        "classes = seventy_data['Class'].unique()\n",
        "\n",
        "print(seventy_data['Class'].value_counts())\n",
        "\n",
        "qtde_por_classe = round(tamanho_amostra / len(classes))\n",
        "\n",
        "amostras_por_classe  = []\n",
        "\n",
        "for c in classes:\n",
        "  selecao_da_classe_atual = seventy_data.loc[seventy_data['Class'] == c]\n",
        "  amostra_c = selecao_da_classe_atual.sample(n = qtde_por_classe)\n",
        "  amostras_por_classe.append(amostra_c)\n",
        "\n",
        "amostra_estratificada = pd.concat(amostras_por_classe)\n",
        "\n",
        "amostra_estratificada.to_csv('BC_estratify.csv',encoding='utf-8',index=False)\n",
        "amostra_estratificada.head(100)"
      ],
      "metadata": {
        "id": "0aoiyVEeyPxM"
      },
      "execution_count": null,
      "outputs": []
    }
  ]
}