{
  "cells": [
    {
      "cell_type": "code",
      "execution_count": null,
      "metadata": {
        "id": "CQM1TqSwAWtM"
      },
      "outputs": [],
      "source": [
        "### Carregar as Libraries\n",
        "import pandas as pd\n",
        "from numpy import mean\n",
        "from numpy import std\n",
        "\n",
        "### Importing Dataset\n",
        "dataset = pd.read_csv('Diabetes.csv',encoding='utf-8')"
      ]
    },
    {
      "cell_type": "code",
      "execution_count": null,
      "metadata": {
        "id": "IooHm-HPEiID"
      },
      "outputs": [],
      "source": [
        "# Obtendo os nomes das colunas Numéricas\n",
        "tipos_numericos = ['int32', 'int64', 'float16', 'float32', 'float64']\n",
        "cols_num = dataset.select_dtypes(include=tipos_numericos)\n",
        "\n",
        "## Selecionando os atributos numéricos\n",
        "colunas_numericas = list(cols_num.columns)\n",
        "\n",
        "## Pegar a classe\n",
        "coluna_classe = dataset['classe']\n",
        "\n",
        "## Separando os atributos da classe\n",
        "X = dataset[colunas_numericas] # Features\n",
        "y = dataset.classe             # Target variable (classe)"
      ]
    },
    {
      "cell_type": "code",
      "execution_count": null,
      "metadata": {
        "id": "vzKhooTqEk8s"
      },
      "outputs": [],
      "source": [
        "## Carregando o algoritmo / método / técnica k-NN\n",
        "from sklearn.neighbors import KNeighborsClassifier\n",
        "from sklearn.model_selection import train_test_split\n",
        "from sklearn import metrics\n",
        "from sklearn.metrics import confusion_matrix"
      ]
    },
    {
      "cell_type": "code",
      "execution_count": null,
      "metadata": {
        "id": "q1eezjz6EsCL"
      },
      "outputs": [],
      "source": [
        "# Separando dataset em duas partes: treinamento e teste\n",
        "# 70% training and 30% test\n",
        "X_train_70, X_test_30, y_train_70, y_test_30 = train_test_split(X, y, test_size=0.3, random_state=1)"
      ]
    },
    {
      "cell_type": "code",
      "execution_count": null,
      "metadata": {
        "colab": {
          "base_uri": "https://localhost:8080/"
        },
        "id": "sqwqKZFzE0r_",
        "outputId": "15c316e7-57cf-428f-8b04-2ba53f270891"
      },
      "outputs": [],
      "source": [
        "### Instanciando kNN and varying k from 1 to 10\n",
        "print('HoldOut 70-30')\n",
        "for i in range(1, 11):\n",
        "    knn = KNeighborsClassifier(n_neighbors=i, metric='euclidean')\n",
        "    knn.fit(X_train_70, y_train_70)\n",
        "\n",
        "    # Utilizando a parte de teste para fazer a predição\n",
        "    y_pred = knn.predict(X_test_30)\n",
        "\n",
        "    # Accuracia do Modelo\n",
        "    acuracia = metrics.accuracy_score(y_test_30, y_pred)\n",
        "    print('%d-NN Accuracy: %.3f' % (i, acuracia))"
      ]
    }
  ],
  "metadata": {
    "colab": {
      "provenance": []
    },
    "kernelspec": {
      "display_name": "Python 3",
      "name": "python3"
    },
    "language_info": {
      "name": "python"
    }
  },
  "nbformat": 4,
  "nbformat_minor": 0
}
