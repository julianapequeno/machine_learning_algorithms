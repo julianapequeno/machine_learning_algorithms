{
  "nbformat": 4,
  "nbformat_minor": 0,
  "metadata": {
    "colab": {
      "provenance": []
    },
    "kernelspec": {
      "name": "python3",
      "display_name": "Python 3"
    },
    "language_info": {
      "name": "python"
    }
  },
  "cells": [
    {
      "cell_type": "code",
      "source": [
        "import numpy as np\n",
        "import pandas as pd\n",
        "\n",
        "##Importing dataset\n",
        "dataset = pd.read_csv('/notebooks/Diabetes.csv',encoding='utf-8')"
      ],
      "metadata": {
        "id": "7qGwqlOZaV61"
      },
      "execution_count": 3,
      "outputs": []
    },
    {
      "cell_type": "code",
      "source": [
        "#obtaining numeric columns names\n",
        "numerics_types = ['int32','int64','float16','float32','float64']\n",
        "cols_num =  dataset.select_dtypes(include=numerics_types)\n",
        "\n",
        "#selecting numeric atributes\n",
        "numerics_columns = list(cols_num.columns)\n",
        "\n",
        "##take target atribute\n",
        "class_column = dataset['classe']\n",
        "\n",
        "#splitting class atribute\n",
        "x = dataset[numerics_columns] #features\n",
        "y = dataset.classe            #target variable (class)"
      ],
      "metadata": {
        "id": "9XfnQORSajbw"
      },
      "execution_count": 4,
      "outputs": []
    },
    {
      "cell_type": "code",
      "source": [
        "from sklearn.tree import DecisionTreeClassifier\n",
        "from sklearn.model_selection import KFold\n",
        "from sklearn.model_selection import cross_val_score\n",
        "from sklearn.model_selection import cross_val_predict\n",
        "from sklearn.metrics import confusion_matrix"
      ],
      "metadata": {
        "id": "4E0v3Jf9bRJ0"
      },
      "execution_count": 5,
      "outputs": []
    },
    {
      "cell_type": "code",
      "execution_count": null,
      "metadata": {
        "id": "qg0gFS5NYaLr"
      },
      "outputs": [],
      "source": [
        "#10-fold CV\n",
        "kf = KFold(n_splits=10,random_state=1,shuffle=True)\n",
        "\n",
        "#Create Decision Tree classifier object\n",
        "clf = DecisionTreeClassifier(criterion='entropy',max_depth=3)\n",
        "\n",
        "#Model accuracy\n",
        "scores = cross_val_score(clf,x,y,scoring='accuracy',cv=kf)\n",
        "print('Accuracy: %.3f (%.3f)' % (scores.mean(),scores.std()))\n",
        "\n",
        "#confusion matrix for k-fold\n",
        "y_pred = cross_val_predict(clf,x,y,cv=kf)\n",
        "confusion_matrix(y,y_pred)\n"
      ]
    },
    {
      "cell_type": "code",
      "source": [
        "from numpy.ma.core import std,mean\n",
        "cnt = 1\n",
        "#split() method generate indices to split data into training and test set\n",
        "for train_index, test_index in kf.split(x,y):\n",
        "  print(f'Fold:{cnt}, Train set: {len(train_index)}, Test set: {len(test_index)}')\n",
        "  cnt += 1\n",
        "\n",
        "print()\n",
        "\n",
        "#Model accuracy\n",
        "scores = cross_val_score(clf,x,y,scoring='accuracy',cv=kf)\n",
        "\n",
        "print('Accuracy: %.3f (%.3f)' % (mean(scores), std(scores)))"
      ],
      "metadata": {
        "id": "Je0kPecTf4Ht"
      },
      "execution_count": null,
      "outputs": []
    }
  ]
}