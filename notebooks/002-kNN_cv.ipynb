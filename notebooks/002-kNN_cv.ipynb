{
  "cells": [
    {
      "cell_type": "code",
      "execution_count": null,
      "metadata": {
        "colab": {
          "base_uri": "https://localhost:8080/"
        },
        "id": "rgMDtb6bf4t7",
        "outputId": "3bc00de1-1400-4dc6-a21b-68bd3d95ba74"
      },
      "outputs": [],
      "source": [
        "### Carregar as Libraries\n",
        "import pandas as pd\n",
        "from numpy import mean\n",
        "from numpy import std\n",
        "\n",
        "### Importing Dataset\n",
        "#dataset = pd.read_csv('Diabetes.csv',encoding='utf-8')\n",
        "\n",
        "dataset = pd.read_csv('data.csv', header = 0, sep = ';', encoding = 'utf-8',engine='c')\n",
        "\n",
        "# Visualização dos atributos\n",
        "dataset.info()"
      ]
    },
    {
      "cell_type": "code",
      "execution_count": 4,
      "metadata": {
        "id": "zxE31I1rgJnh"
      },
      "outputs": [],
      "source": [
        "# Obtendo os nomes das colunas Numéricas\n",
        "tipos_numericos = ['int32', 'int64', 'float16', 'float32', 'float64']\n",
        "cols_num = dataset.select_dtypes(include=tipos_numericos)\n",
        "\n",
        "## Selecionando os atributos numéricos\n",
        "colunas_numericas = list(cols_num.columns)\n",
        "\n",
        "## Pegar a classe\n",
        "coluna_classe = dataset['Target']\n",
        "\n",
        "## Separando os atributos da classe\n",
        "X = dataset[colunas_numericas] # Features\n",
        "y = dataset.Target             # Target variable (classe)"
      ]
    },
    {
      "cell_type": "code",
      "execution_count": 5,
      "metadata": {
        "id": "lqQN0DCugUuN"
      },
      "outputs": [],
      "source": [
        "## Carregando o algoritmo / método / técnica k-NN\n",
        "from sklearn.neighbors import KNeighborsClassifier\n",
        "from sklearn.model_selection import train_test_split\n",
        "from sklearn.metrics import confusion_matrix\n",
        "from sklearn import metrics\n",
        "\n",
        "## Implementando k-fold CV\n",
        "from sklearn.model_selection import cross_val_score\n",
        "from sklearn.model_selection import cross_val_predict\n",
        "from sklearn.model_selection import KFold\n",
        "from sklearn.model_selection import cross_val_score\n",
        "from sklearn.model_selection import cross_val_predict"
      ]
    },
    {
      "cell_type": "code",
      "execution_count": 17,
      "metadata": {
        "colab": {
          "base_uri": "https://localhost:8080/"
        },
        "id": "zep5OVyGgXQD",
        "outputId": "63539ec9-c20a-48b4-abdf-4f3b634534b7"
      },
      "outputs": [
        {
          "name": "stdout",
          "output_type": "stream",
          "text": [
            "Accuracy: 0.536 (0.022)\n"
          ]
        },
        {
          "data": {
            "text/plain": [
              "array([[ 635,  282,  504],\n",
              "       [ 216,  223,  355],\n",
              "       [ 377,  318, 1514]])"
            ]
          },
          "execution_count": 17,
          "metadata": {},
          "output_type": "execute_result"
        }
      ],
      "source": [
        "# 10-fold CV\n",
        "kf = KFold(n_splits=10, random_state=1, shuffle=True)\n",
        "\n",
        "# Instanciando um objeto KNeighborsClassifier\n",
        "knn = KNeighborsClassifier(n_neighbors=1, metric='euclidean')\n",
        "\n",
        "# Model Accuracy\n",
        "scores = cross_val_score(knn, X, y, scoring='accuracy', cv=kf)\n",
        "print('Accuracy: %.3f (%.3f)' % (mean(scores), std(scores)))\n",
        "\n",
        "# Matriz de confusão p/ kf\n",
        "y_pred = cross_val_predict(knn, X, y, cv=kf)\n",
        "confusion_matrix(y, y_pred)"
      ]
    }
  ],
  "metadata": {
    "colab": {
      "provenance": []
    },
    "kernelspec": {
      "display_name": "Python 3",
      "name": "python3"
    },
    "language_info": {
      "name": "python"
    }
  },
  "nbformat": 4,
  "nbformat_minor": 0
}
