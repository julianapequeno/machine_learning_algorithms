{
  "nbformat": 4,
  "nbformat_minor": 0,
  "metadata": {
    "colab": {
      "provenance": []
    },
    "kernelspec": {
      "name": "python3",
      "display_name": "Python 3"
    },
    "language_info": {
      "name": "python"
    }
  },
  "cells": [
    {
      "cell_type": "code",
      "execution_count": 65,
      "metadata": {
        "id": "xrRrIT2Zl2GN",
        "colab": {
          "base_uri": "https://localhost:8080/"
        },
        "outputId": "325db924-4632-43c3-82cc-fee4cdcc1557"
      },
      "outputs": [
        {
          "output_type": "stream",
          "name": "stdout",
          "text": [
            "<class 'pandas.core.frame.DataFrame'>\n",
            "RangeIndex: 2600 entries, 0 to 2599\n",
            "Columns: 501 entries, a_0 to classe\n",
            "dtypes: int64(501)\n",
            "memory usage: 9.9 MB\n"
          ]
        }
      ],
      "source": [
        "### Carregar as Libraries\n",
        "import numpy as np\n",
        "import pandas as pd\n",
        "\n",
        "### Importing Dataset\n",
        "dataset = pd.read_csv('Madelon.csv',encoding='utf-8')\n",
        "\n",
        "### Mostrando as colunas do dataset\n",
        "dataset.info()"
      ]
    },
    {
      "cell_type": "code",
      "source": [
        "tipos_numericos = ['int64']\n",
        "atributos_numericos = dataset.select_dtypes(include=tipos_numericos)\n",
        "\n",
        "colunas_numericas = list(atributos_numericos.columns)\n",
        "\n",
        "print(colunas_numericas)\n",
        "\n",
        "X = dataset[colunas_numericas] # Features\n",
        "y = dataset.classe      # Target variable (classe)\n",
        "\n",
        "print(X)"
      ],
      "metadata": {
        "id": "GcnmbdGtmcfu"
      },
      "execution_count": null,
      "outputs": []
    },
    {
      "cell_type": "code",
      "source": [
        "### Importando PCA do SkLearn #################\n",
        "\n",
        "from sklearn.decomposition import PCA\n",
        "\n",
        "##pca_obj = PCA(n_components=4)\n",
        "pca_obj = PCA(n_components=0.20, whiten=True)\n",
        "pca_result = pca_obj.fit_transform(X)\n",
        "\n",
        "print(pca_result.shape)\n",
        "\n",
        "columns = [\"pca_\"+str(i) for i in range(1,pca_result.shape[1]+1)]\n",
        "\n",
        "print(columns)\n",
        "pca_dataset = pd.DataFrame(data = pca_result, columns=columns)"
      ],
      "metadata": {
        "id": "it-BbeXhmj98",
        "colab": {
          "base_uri": "https://localhost:8080/"
        },
        "outputId": "a07e9b79-a009-48d6-dfc7-5aa6ad641ef0"
      },
      "execution_count": 67,
      "outputs": [
        {
          "output_type": "stream",
          "name": "stdout",
          "text": [
            "(2600, 3)\n",
            "['pca_1', 'pca_2', 'pca_3']\n"
          ]
        }
      ]
    },
    {
      "cell_type": "code",
      "source": [
        "final_data = pca_dataset.join(y)\n",
        "\n",
        "final_data.head()\n",
        "\n",
        "df = pd.DataFrame(final_data)\n",
        "df.to_csv('Madelon_PCA.csv', index=False)\n",
        "\n",
        "# Importando arquivo transformado\n",
        "#from google.colab import files\n",
        "#files.download('Madelon_PCA.csv')"
      ],
      "metadata": {
        "id": "AAUJM8AanTYF"
      },
      "execution_count": 68,
      "outputs": []
    },
    {
      "cell_type": "code",
      "source": [
        "from sklearn.neighbors import KNeighborsClassifier\n",
        "from sklearn.model_selection import train_test_split # Import train_test_split function\n",
        "from sklearn import metrics #Import scikit-learn metrics module for accuracy calculation\n",
        "from sklearn.metrics import confusion_matrix\n",
        "\n",
        "### Importing Dataseta\n",
        "data = pd.read_csv('Madelon_PCA.csv',encoding='utf-8')\n",
        "\n",
        "#split dataset in features and target variable\n",
        "tipos_numericos = ['int64', 'float64']\n",
        "atributos_numericos = data.select_dtypes(include=tipos_numericos)\n",
        "\n",
        "## selecionando as colunas\n",
        "colunas_numericas = list(atributos_numericos.columns)\n",
        "\n",
        "X = data[colunas_numericas] # Features\n",
        "y = data.classe # Target variable\n",
        "\n",
        "X.drop('classe',inplace=True,axis=1)#dropei a classe porque ela estava entrando no cálculo pelo y também, já que era int64 tbm, e não podia!!\n",
        "\n",
        "# Split dataset into training set and test set\n",
        "X_train_70, X_test_30, y_train_70, y_test_30 = train_test_split(X, y, test_size=0.3, random_state=1) # 70% training and 30% test\n",
        "\n",
        "# Create KNeighborsClassifier object\n",
        "knn = KNeighborsClassifier(n_neighbors=1, metric='euclidean')\n",
        "knn.fit(X_train_70, y_train_70)\n",
        "\n",
        "#Predict the response for test dataset\n",
        "y_pred = knn.predict(X_test_30)\n",
        "\n",
        "# Model Accuracy, how often is the classifier correct?\n",
        "acuracia = metrics.accuracy_score(y_test_30, y_pred)\n",
        "print('Accuracy of Madelon_PCA: %.3f' % acuracia)\n",
        "\n",
        "# Matriz de confusão p/ 30%\n",
        "confusion_matrix(y_test_30, y_pred)"
      ],
      "metadata": {
        "colab": {
          "base_uri": "https://localhost:8080/"
        },
        "id": "6jLOzBo_ngbC",
        "outputId": "18123ce2-6f7d-4a76-ab46-0b151c4f8e3c"
      },
      "execution_count": 69,
      "outputs": [
        {
          "output_type": "stream",
          "name": "stdout",
          "text": [
            "Accuracy of Madelon_PCA: 0.672\n"
          ]
        },
        {
          "output_type": "execute_result",
          "data": {
            "text/plain": [
              "array([[268, 128],\n",
              "       [128, 256]])"
            ]
          },
          "metadata": {},
          "execution_count": 69
        }
      ]
    },
    {
      "cell_type": "code",
      "source": [
        "### Importing Dataset\n",
        "data = pd.read_csv('Madelon.csv',encoding='utf-8')\n",
        "\n",
        "#split dataset in features and target variable\n",
        "tipos_numericos = ['int64', 'float64']\n",
        "atributos_numericos = data.select_dtypes(include=tipos_numericos)\n",
        "\n",
        "## selecionando as colunas\n",
        "colunas_numericas = list(atributos_numericos.columns)\n",
        "\n",
        "X = data[colunas_numericas] # Features\n",
        "y = data.classe # Target variable\n",
        "\n",
        "X.drop('classe',inplace=True,axis=1) #dropei a classe porque ela estava entrando no cálculo pelo y também, já que era int64 tbm, e não podia!!\n",
        "# Split dataset into training set and test set\n",
        "X_train_70, X_test_30, y_train_70, y_test_30 = train_test_split(X, y, test_size=0.3, random_state=1) # 70% training and 30% test\n",
        "\n",
        "# Create KNeighborsClassifier object\n",
        "knn = KNeighborsClassifier(n_neighbors=1, metric='euclidean')\n",
        "knn.fit(X_train_70, y_train_70)\n",
        "\n",
        "#Predict the response for test dataset\n",
        "y_pred = knn.predict(X_test_30)\n",
        "\n",
        "# Model Accuracy, how often is the classifier correct?\n",
        "acuracia = metrics.accuracy_score(y_test_30, y_pred)\n",
        "print('Accuracy of Madelon: %.3f' % acuracia)\n",
        "\n",
        "# Matriz de confusão p/ 30%\n",
        "confusion_matrix(y_test_30, y_pred)"
      ],
      "metadata": {
        "colab": {
          "base_uri": "https://localhost:8080/"
        },
        "id": "-IV4y1Zfn3cc",
        "outputId": "919d7df4-1aa5-4a3a-d3e4-6d70df512ca3"
      },
      "execution_count": 70,
      "outputs": [
        {
          "output_type": "stream",
          "name": "stdout",
          "text": [
            "Accuracy of Madelon: 0.633\n"
          ]
        },
        {
          "output_type": "execute_result",
          "data": {
            "text/plain": [
              "array([[249, 147],\n",
              "       [139, 245]])"
            ]
          },
          "metadata": {},
          "execution_count": 70
        }
      ]
    },
    {
      "cell_type": "code",
      "source": [
        "### Importando LDA do SkLearn\n",
        "from sklearn.discriminant_analysis import LinearDiscriminantAnalysis\n",
        "\n",
        "lda_obj = LinearDiscriminantAnalysis(n_components=1)\n",
        "lda_result = lda_obj.fit(X, y).transform(X)\n",
        "##pca_result = pca_obj.fit_transform(X)\n",
        "\n",
        "print(lda_result.shape)\n",
        "\n",
        "lda_dataset = pd.DataFrame(data = lda_result, columns = ['lda_01'])"
      ],
      "metadata": {
        "id": "kxyqjGbipOjC",
        "colab": {
          "base_uri": "https://localhost:8080/"
        },
        "outputId": "af3d1132-2c12-4692-e62c-f9ef322caddc"
      },
      "execution_count": null,
      "outputs": [
        {
          "output_type": "stream",
          "name": "stdout",
          "text": [
            "(2600, 1)\n"
          ]
        }
      ]
    },
    {
      "cell_type": "code",
      "source": [
        "## Juntando o atributo classe\n",
        "final_data = lda_dataset.join(y)\n",
        "\n",
        "# Visualização dos dados normalizados\n",
        "lda_dataset.head()\n",
        "\n",
        "# Salvando Pessoa.csv transformado\n",
        "df = pd.DataFrame(lda_dataset)\n",
        "df.to_csv('Madelon_LDA.csv', index=False)\n",
        "\n",
        "# Importando arquivo transformado\n",
        "#from google.colab import files\n",
        "#files.download('Madelon_LDA.csv')"
      ],
      "metadata": {
        "id": "WkRfh_2ipzyK"
      },
      "execution_count": null,
      "outputs": []
    },
    {
      "cell_type": "code",
      "source": [
        "## Juntando o atributo classe\n",
        "final_data = lda_dataset.join(y)\n",
        "\n",
        "# Visualização dos dados normalizados\n",
        "final_data.head()\n",
        "\n",
        "# Salvando Pessoa.csv transformado\n",
        "df = pd.DataFrame(final_data)\n",
        "df.to_csv('Madelon_LDA.csv', index=False)\n",
        "\n",
        "# Importando arquivo transformado\n",
        "#from google.colab import files\n",
        "#files.download('Madelon_LDA.csv')"
      ],
      "metadata": {
        "id": "qvBDKfE9rVEk"
      },
      "execution_count": null,
      "outputs": []
    },
    {
      "cell_type": "code",
      "source": [
        "### Importing Dataset\n",
        "data = pd.read_csv('Madelon_LDA.csv',encoding='utf-8')\n",
        "\n",
        "#split dataset in features and target variable\n",
        "tipos_numericos = ['int64']\n",
        "atributos_numericos = data.select_dtypes(include=tipos_numericos)\n",
        "\n",
        "## selecionando as colunas\n",
        "colunas_numericas = list(atributos_numericos.columns)\n",
        "\n",
        "X = data[colunas_numericas] # Features\n",
        "y = data.classe # Target variable\n",
        "\n",
        "data.drop('classe',inplace=True,axis=1)\n",
        "# Split dataset into training set and test set\n",
        "X_train_70, X_test_30, y_train_70, y_test_30 = train_test_split(X, y, test_size=0.3, random_state=1) # 70% training and 30% test\n",
        "\n",
        "# Create KNeighborsClassifier object\n",
        "knn = KNeighborsClassifier(n_neighbors=1, metric='euclidean')\n",
        "knn.fit(X_train_70, y_train_70)\n",
        "\n",
        "#Predict the response for test dataset\n",
        "y_pred = knn.predict(X_test_30)\n",
        "\n",
        "# Model Accuracy, how often is the classifier correct?\n",
        "acuracia = metrics.accuracy_score(y_test_30, y_pred)\n",
        "print('Accuracy of Madelon_LDA: %.3f' % acuracia)\n",
        "\n",
        "# Matriz de confusão p/ 30%\n",
        "confusion_matrix(y_test_30, y_pred)"
      ],
      "metadata": {
        "id": "FN3VZJsgqBGH",
        "colab": {
          "base_uri": "https://localhost:8080/"
        },
        "outputId": "9c0bea36-44bd-4f84-af1e-c76e90f95637"
      },
      "execution_count": null,
      "outputs": [
        {
          "output_type": "stream",
          "name": "stdout",
          "text": [
            "Accuracy of Madelon_LDA: 1.000\n"
          ]
        },
        {
          "output_type": "execute_result",
          "data": {
            "text/plain": [
              "array([[396,   0],\n",
              "       [  0, 384]])"
            ]
          },
          "metadata": {},
          "execution_count": 118
        }
      ]
    }
  ]
}